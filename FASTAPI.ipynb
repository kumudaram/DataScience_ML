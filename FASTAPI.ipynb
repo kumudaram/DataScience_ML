{
  "nbformat": 4,
  "nbformat_minor": 0,
  "metadata": {
    "colab": {
      "provenance": []
    },
    "kernelspec": {
      "name": "python3",
      "display_name": "Python 3"
    },
    "language_info": {
      "name": "python"
    }
  },
  "cells": [
    {
      "cell_type": "code",
      "execution_count": null,
      "metadata": {
        "id": "ncIohdBbCGzk"
      },
      "outputs": [],
      "source": [
        "from fastapi import FastAPI\n",
        "from pydantic import BaseModel\n",
        "import pandas as pd\n",
        "import joblib\n",
        "app = FastAPI()\n",
        "\n",
        "class Input(BaseModel):\n",
        "    CONSOLE: object\n",
        "    YEAR: int\n",
        "    CATEGORY: object\n",
        "    PUBLISHER: object\n",
        "    RATING: object\n",
        "    CRITICS_POINTS: float\n",
        "    USER_POINTS: float\n",
        "class Output(BaseModel):\n",
        "    SalesInMillions: float\n",
        "\n",
        "@app.post(\"/predict\")\n",
        "def predict2(data: Input) -> Output:\n",
        "    # input\n",
        "    # dataframe thru list\n",
        "    X_input = pd.DataFrame([[data.CONSOLE, data.YEAR, data.CATEGORY, data.PUBLISHER, data.RATING, data.CRITICS_POINTS, data.USER_POINTS]])\n",
        "    X_input.columns = ['CONSOLE', 'YEAR', 'CATEGORY', 'PUBLISHER', 'RATING', 'CRITICS_POINTS', 'USER_POINTS']\n",
        "    # dataframe thru dictionary (valid)\n",
        "    #X_input = pd.DataFrame([{'CONSOLE':  data.CONSOLE,'YEAR':  data.YEAR,'CATEGORY':  data.CATEGORY,'PUBLISHER':  data.PUBLISHER,'RATING':  data.RATING,'CRITICS_POINTS':  data.CRITICS_POINTS,'USER_POINTS':  data.USER_POINTS}])\n",
        "\n",
        "    print(X_input)\n",
        "    # load the model\n",
        "    model = joblib.load('vgsales_pipeline_model.pkl')\n",
        "    #predict using the model\n",
        "    prediction = model.predict(X_input)\n",
        "    # output\n",
        "    return Output(SalesInMillions = prediction)"
      ]
    }
  ]
}